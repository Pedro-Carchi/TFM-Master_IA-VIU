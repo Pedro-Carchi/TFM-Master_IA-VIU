{
 "cells": [
  {
   "cell_type": "markdown",
   "id": "f6096eba-3a62-49c8-9a1d-de60e65aca9d",
   "metadata": {},
   "source": [
    "# Búsqueda hiperparámteros del modelo SVM \n"
   ]
  },
  {
   "cell_type": "markdown",
   "id": "b9535294-cc48-48b0-ac54-8d86e80ed8d1",
   "metadata": {},
   "source": [
    "\n",
    "- Cada bloque de 1000 días tiene su propia dinámica, volatilidad y características del mercado. Los hiperparámetros óptimos pueden variar de bloque a bloque.\n",
    "\n",
    "- Sin embargo si pretendemos calcular hiperparámetros de cada bloque y de cada acción, los tiempos de cómputo se disparan.\n",
    "\n",
    "- Por ello realizaremos búsqueda de hiperparámetros usando un bloque y una acción determinados. "
   ]
  },
  {
   "cell_type": "code",
   "execution_count": 1,
   "id": "2ae435b3-2f4b-4209-9bb9-91e338761d24",
   "metadata": {},
   "outputs": [],
   "source": [
    "import numpy as np\n",
    "import pandas as pd\n",
    "import matplotlib.pyplot as plt \n",
    "\n",
    "# Escalamiento\n",
    "from sklearn.preprocessing import MinMaxScaler, StandardScaler\n",
    "\n",
    "# Métricas\n",
    "from sklearn.metrics import mean_squared_error, mean_absolute_error\n",
    "from sklearn.metrics import mean_absolute_percentage_error, r2_score\n",
    "\n",
    "# modelo SVR\n",
    "from sklearn.svm import SVR\n",
    "from sklearn.svm import LinearSVR\n",
    "from sklearn.model_selection import TimeSeriesSplit\n",
    "\n",
    "# hiperparametros\n",
    "from sklearn.model_selection import GridSearchCV\n"
   ]
  },
  {
   "cell_type": "markdown",
   "id": "c201c928-1026-41b0-ad7f-adc5691db1bf",
   "metadata": {},
   "source": [
    "## Lectura de datasets "
   ]
  },
  {
   "cell_type": "code",
   "execution_count": 2,
   "id": "498a49ed-af93-4215-afbc-8facafe9bab1",
   "metadata": {},
   "outputs": [
    {
     "name": "stdout",
     "output_type": "stream",
     "text": [
      "dict_keys(['TSCO', 'AZN', 'BARC', 'BP', 'BATS', 'HLMA', 'HSBA', 'JMAT', 'LGEN', 'MKS', 'PSON', 'REL', 'NWG', 'SHEL', 'SGE', 'SBRY', 'SDR', 'SVT', 'SMIN', 'SSE', 'VOD'])\n"
     ]
    }
   ],
   "source": [
    "# Nombre de las acciones\n",
    "tickers = [\n",
    "    'TSCO', 'AZN', 'BARC', 'BP', 'BATS', 'HLMA',\n",
    "    'HSBA', 'JMAT', 'LGEN', 'MKS', 'PSON', 'REL',\n",
    "    'NWG', 'SHEL', 'SGE', 'SBRY', 'SDR', 'SVT',\n",
    "    'SMIN', 'SSE', 'VOD'\n",
    "]\n",
    "\n",
    "data_frames = {} # Inicializo diciconario de data frames\n",
    "\n",
    "for ticker in tickers: \n",
    "    \n",
    "    df = pd.read_csv(f'datasets_features/{ticker}.csv')  # leo el dataset\n",
    "    data_frames[ticker] = df                             # guardo dataframes\n",
    "    \n",
    "print(data_frames.keys())"
   ]
  },
  {
   "cell_type": "markdown",
   "id": "80bb163f-6db4-480f-afa3-fce6f32c8246",
   "metadata": {},
   "source": [
    "## Función que calcula hiperparametros (1 acción - 1 bloque)"
   ]
  },
  {
   "cell_type": "code",
   "execution_count": 7,
   "id": "be6336ee-053f-4697-ab6d-12faa780671c",
   "metadata": {},
   "outputs": [],
   "source": [
    "def hiperparametros_SVM(df_bloque):\n",
    "    '''\n",
    "    Dado un bloque de dataframe (1000 días, o todo el dataset) calcula los hiperámetros óptimos \n",
    "    ''' \n",
    "    # 1) ------------- Partición de datos ----------------\n",
    "    \n",
    "    # Índice de separación\n",
    "    N = len(df_bloque)\n",
    "    split_idx = int(N * 0.75) \n",
    "    \n",
    "    df_features = df_bloque.drop(columns=['Date', 'Open', 'High', 'Low','Close','Volume', 'prev_close', 'target']) # todas columnas r_i\n",
    "    target      = df_bloque['target']  # columna del target\n",
    "\n",
    "    \n",
    "    X_train = df_features.iloc[ : split_idx]\n",
    "    X_test  = df_features.iloc[split_idx : ]\n",
    "    y_train = target.iloc[ : split_idx]\n",
    "    y_test  = target.iloc[split_idx : ]\n",
    "    \n",
    "    #print(split_idx)\n",
    "    #display(X_train.head())\n",
    "    display(X_train.shape)\n",
    "    display(X_test.shape)\n",
    "\n",
    "    # 2) ------------ Estandarización ---------------------\n",
    "    # Features \n",
    "    scaler_x = MinMaxScaler(feature_range=(-1,1))\n",
    "    X_train_s = scaler_x.fit_transform(X_train)     \n",
    "    X_test_s  = scaler_x.transform(X_test)\n",
    "\n",
    "    # Target (al estandarizar son 2D)\n",
    "    scaler_y = MinMaxScaler(feature_range=(-1,1))\n",
    "    y_train_s = scaler_y.fit_transform(y_train.values.reshape(-1, 1)).ravel()    # Necesario reshape, scaler espera 2D      \n",
    "    y_test_s  = scaler_y.transform(y_test.values.reshape(-1, 1))\n",
    "\n",
    "\n",
    "    # 3) ------------- Busco hiperparametros --------------------\n",
    "    # Grid \n",
    "    param_grid = {\n",
    "        'kernel': ['linear', 'rbf'],\n",
    "        'C': [0.1, 1, 10, 100],\n",
    "        'gamma': ['scale', 'auto', 0.01, 0.001],\n",
    "        'epsilon': [0.01, 0.1, 0.2]\n",
    "    }\n",
    "\n",
    "    # Búsqueda por grid search con validación cruzada\n",
    "\n",
    "    grid = GridSearchCV(\n",
    "        estimator = SVR(),\n",
    "        param_grid = param_grid,\n",
    "        scoring = 'neg_mean_squared_error', # 'neg_mean_squared_error' devuelve el negativo del MSE → cuanto más alto (menos negativo), mejor (menos error)\n",
    "        n_jobs = -1,\n",
    "        cv = TimeSeriesSplit(n_splits=5),\n",
    "        refit = True,\n",
    "        verbose = 0,\n",
    "        return_train_score = False #defecto false\n",
    "    )\n",
    "\n",
    "    grid.fit(X=X_train_s, y=y_train_s)\n",
    "    \n",
    "    #medias_test     = grid.cv_results_['mean_test_score']  #array\n",
    "    #std_test        = grid.cv_results_['std_test_score']   #array\n",
    "    #posibles_params = grid.cv_results_['params']           #lista de diccionarios\n",
    "\n",
    "    # Almaceno resultado\n",
    "    resultado = grid.best_params_.copy()\n",
    "    resultado['best_score'] = grid.best_score_  #añado una clave más\n",
    "    \n",
    "    return resultado\n",
    "    \n",
    "    "
   ]
  },
  {
   "cell_type": "markdown",
   "id": "9859a4d0-1720-4bc3-8683-29ccb341f092",
   "metadata": {},
   "source": [
    "### Ejemplo búsqueda hiperparámetros en un bloque  "
   ]
  },
  {
   "cell_type": "code",
   "execution_count": 5,
   "id": "359839e3-9187-45cf-a94f-caa034a77a8f",
   "metadata": {},
   "outputs": [
    {
     "data": {
      "text/plain": [
       "(750, 20)"
      ]
     },
     "metadata": {},
     "output_type": "display_data"
    },
    {
     "data": {
      "text/plain": [
       "(250, 20)"
      ]
     },
     "metadata": {},
     "output_type": "display_data"
    }
   ],
   "source": [
    "# Elijo un data set\n",
    "df = data_frames['AZN']\n",
    "\n",
    "# Calculo hiperparámetros (1 bloque)\n",
    "hiper_1bloque = hiperparametros_SVM(df[0:1000])"
   ]
  },
  {
   "cell_type": "code",
   "execution_count": 8,
   "id": "3d4e8d66-eb85-46d2-b456-574ad5d2f976",
   "metadata": {},
   "outputs": [
    {
     "data": {
      "text/plain": [
       "(750, 20)"
      ]
     },
     "metadata": {},
     "output_type": "display_data"
    },
    {
     "data": {
      "text/plain": [
       "(250, 20)"
      ]
     },
     "metadata": {},
     "output_type": "display_data"
    }
   ],
   "source": [
    "# Elijo un data set\n",
    "df = data_frames['AZN']\n",
    "\n",
    "# Calculo hiperparámetros (1 bloque)\n",
    "hiper_1bloque_s = hiperparametros_SVM(df[0:1000])"
   ]
  },
  {
   "cell_type": "code",
   "execution_count": 9,
   "id": "199f6301-a2b6-46e6-82dc-022d9d5271f1",
   "metadata": {},
   "outputs": [
    {
     "data": {
      "text/plain": [
       "{'C': 0.1,\n",
       " 'epsilon': 0.01,\n",
       " 'gamma': 'auto',\n",
       " 'kernel': 'rbf',\n",
       " 'best_score': -0.00013280459288084586}"
      ]
     },
     "metadata": {},
     "output_type": "display_data"
    },
    {
     "data": {
      "text/plain": [
       "{'C': 1,\n",
       " 'epsilon': 0.2,\n",
       " 'gamma': 0.001,\n",
       " 'kernel': 'rbf',\n",
       " 'best_score': -0.03926488641586433}"
      ]
     },
     "metadata": {},
     "output_type": "display_data"
    }
   ],
   "source": [
    "display(hiper_1bloque)     # grid.fit(X=X_train, y=y_train)\n",
    "display(hiper_1bloque_s)   # grid.fit(X=X_train_s, y=y_train_s)"
   ]
  },
  {
   "cell_type": "markdown",
   "id": "56b28d1f-4b62-44ad-9d5e-17cfd8c5d582",
   "metadata": {},
   "source": [
    "**Nota:** La segunda opción me da mejores métricas"
   ]
  },
  {
   "cell_type": "code",
   "execution_count": null,
   "id": "4ba48fbb-d8e9-46d1-bd57-4ef132014006",
   "metadata": {},
   "outputs": [],
   "source": []
  },
  {
   "cell_type": "code",
   "execution_count": null,
   "id": "f000fe7d-6c13-49f2-b4d7-1017980edcff",
   "metadata": {},
   "outputs": [],
   "source": []
  },
  {
   "cell_type": "code",
   "execution_count": null,
   "id": "fb2d83dd-5ec6-4cb3-b06e-970bed2428f9",
   "metadata": {},
   "outputs": [],
   "source": []
  },
  {
   "cell_type": "code",
   "execution_count": null,
   "id": "1619f7a2-6a9b-4b50-8c04-4168c65ec13c",
   "metadata": {},
   "outputs": [],
   "source": []
  }
 ],
 "metadata": {
  "kernelspec": {
   "display_name": "Python 3 (ipykernel)",
   "language": "python",
   "name": "python3"
  },
  "language_info": {
   "codemirror_mode": {
    "name": "ipython",
    "version": 3
   },
   "file_extension": ".py",
   "mimetype": "text/x-python",
   "name": "python",
   "nbconvert_exporter": "python",
   "pygments_lexer": "ipython3",
   "version": "3.8.16"
  }
 },
 "nbformat": 4,
 "nbformat_minor": 5
}
