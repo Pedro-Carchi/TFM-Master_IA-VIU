{
 "cells": [
  {
   "cell_type": "markdown",
   "id": "73c9b908-acc7-4ef2-8c9f-34402d74019e",
   "metadata": {},
   "source": [
    "# Modelo Support Vector Machine (SVM) \n"
   ]
  },
  {
   "cell_type": "markdown",
   "id": "c7e5b960-82e7-41ca-8c6c-32ffde8f615c",
   "metadata": {},
   "source": [
    "\n",
    "En este cuaderno de Jupyter se construye el modelo Random Forest usando los hiperparámetros calculados en el cuaderno `hiperparamtros_SVM.ipynb` "
   ]
  },
  {
   "cell_type": "code",
   "execution_count": 1,
   "id": "3b070da1-e7e5-4cc0-aa5e-3aeac08ffe42",
   "metadata": {},
   "outputs": [],
   "source": [
    "import numpy as np\n",
    "import pandas as pd\n",
    "import matplotlib.pyplot as plt \n",
    "import os\n",
    "\n",
    "# Escalamiento\n",
    "from sklearn.preprocessing import MinMaxScaler, StandardScaler\n",
    "\n",
    "# Métricas\n",
    "from sklearn.metrics import mean_squared_error, mean_absolute_error\n",
    "from sklearn.metrics import mean_absolute_percentage_error, r2_score\n",
    "\n",
    "# modelo SVR\n",
    "from sklearn.svm import SVR\n",
    "from sklearn.svm import LinearSVR\n",
    "from sklearn.model_selection import TimeSeriesSplit"
   ]
  },
  {
   "cell_type": "markdown",
   "id": "93d9ac2b-c564-4825-b0b8-888a9a43c493",
   "metadata": {},
   "source": [
    "## Lectura de datasets "
   ]
  },
  {
   "cell_type": "code",
   "execution_count": 2,
   "id": "cda768ff-a6a8-45fc-9eeb-ae325b55088d",
   "metadata": {},
   "outputs": [
    {
     "name": "stdout",
     "output_type": "stream",
     "text": [
      "dict_keys(['TSCO', 'AZN', 'BARC', 'BP', 'BATS', 'HLMA', 'HSBA', 'JMAT', 'LGEN', 'MKS', 'PSON', 'REL', 'NWG', 'SHEL', 'SGE', 'SBRY', 'SDR', 'SVT', 'SMIN', 'SSE', 'VOD'])\n"
     ]
    }
   ],
   "source": [
    "# Nombre de las acciones\n",
    "tickers = [\n",
    "    'TSCO', 'AZN', 'BARC', 'BP', 'BATS', 'HLMA',\n",
    "    'HSBA', 'JMAT', 'LGEN', 'MKS', 'PSON', 'REL',\n",
    "    'NWG', 'SHEL', 'SGE', 'SBRY', 'SDR', 'SVT',\n",
    "    'SMIN', 'SSE', 'VOD'\n",
    "]\n",
    "\n",
    "data_frames = {} # Inicializo diciconario de data frames\n",
    "\n",
    "for ticker in tickers: \n",
    "    \n",
    "    df = pd.read_csv(f'datasets_features/{ticker}.csv')  # leo el dataset\n",
    "    data_frames[ticker] = df                             # guardo dataframes\n",
    "    \n",
    "print(data_frames.keys())"
   ]
  },
  {
   "cell_type": "markdown",
   "id": "39ddf19e-8a84-4a65-af6f-be5f6298a0eb",
   "metadata": {},
   "source": [
    "## Función para 1 bloque - 1 acción "
   ]
  },
  {
   "cell_type": "code",
   "execution_count": 3,
   "id": "4743741f-2371-48cd-85b6-084d7035c69b",
   "metadata": {},
   "outputs": [],
   "source": [
    "def modelo_SVM(df_bloque, model):\n",
    "    '''\n",
    "    Dado un bloque de 1000 días, esta función usa el 'Modelo Support Vector Machine (SVR)' para predecir. \n",
    "    Parametros:\n",
    "    -----------\n",
    "        df_bloque : pd.DataFrame con bloque de 1000 días. \n",
    "            Contiene los 20 features + (open, close, high, low,...)\n",
    "        model : modelo a aplicar\n",
    "    \n",
    "    Return:\n",
    "    -------\n",
    "        diccionario : devuelve un diccionario con los resultados de prediciones y metricas. \n",
    "            Tiene como claves: y_pred, y_test, y_pred_s, y_test_s, y_pre_close, y_test_close, metrics\n",
    "    \n",
    "    '''\n",
    "    \n",
    "    # 1) ------------- Partición de datos ---------------- \n",
    "    \n",
    "    df_features = df_bloque.drop(columns=['Date', 'Open', 'High', 'Low','Close','Volume', 'prev_close', 'target']) # todas columnas r_i\n",
    "    target      = df_bloque['target']  # columna del target\n",
    "    close       = df_bloque['Close']   # columna precio cierre\n",
    "    \n",
    "    ini_train, fin_train = 0, 749 \n",
    "    ini_test, fin_test = 750, 999 \n",
    "    \n",
    "    X_train = df_features.iloc[ : fin_train + 1]\n",
    "    X_test  = df_features.iloc[ini_test : fin_test + 1]\n",
    "    y_train = target.iloc[ : fin_train + 1]\n",
    "    y_test  = target.iloc[ini_test : fin_test + 1]\n",
    "    y_test_close = close.iloc[ini_test : fin_test + 1]\n",
    "\n",
    "    # 2) ----------- Estandarización ---------------------\n",
    "    # Features \n",
    "    scaler_x = MinMaxScaler(feature_range=(-1,1))\n",
    "    X_train_s = scaler_x.fit_transform(X_train)     \n",
    "    X_test_s  = scaler_x.transform(X_test)\n",
    "\n",
    "    # Target (al estandarizar son 2D)\n",
    "    scaler_y = MinMaxScaler(feature_range=(-1,1))\n",
    "    y_train_s = scaler_y.fit_transform(y_train.values.reshape(-1, 1)).ravel() # Necesario reshape, scaler espera 2D      \n",
    "    y_test_s  = scaler_y.transform(y_test.values.reshape(-1, 1))\n",
    "\n",
    "    # 3) ---------- Entrenamiento y predicción del modelo --------------------\n",
    "    \n",
    "    model.fit(X_train_s, y_train_s)\n",
    "    y_pred_s = model.predict(X=X_test_s)\n",
    "    y_pred = scaler_y.inverse_transform(y_pred_s.reshape(-1, 1)).ravel() \n",
    "    \n",
    "    # en caso de no estandarizar\n",
    "    #model.fit(X_train, y_train)\n",
    "    #y_pred = model.predict(X=X_test)\n",
    "\n",
    "    \n",
    "    # Predicción de los precios   \n",
    "    P_real_test = close.iloc[ini_test : fin_test+1]  # 250 precios: desde P_750 hasta P_999\n",
    "    y_pred_close = np.zeros(249)                # 249 predicciones de P_close: desde P_751 hasta P_999\n",
    "\n",
    "    for k in range(len(y_pred_close)): \n",
    "        y_pred_close[k] = P_real_test.iloc[k]*np.exp(y_pred[k])  \n",
    "        # ojo: las predicciones y_pred_close = [P_751, P_752, ... , P_999] \n",
    "        # empiezan en 751 porque P_750 ya lo conozco al disponer de y_749\n",
    "    \n",
    "    \n",
    "    # 4) ---------- Cálculo de métricas ------------------\n",
    "    mse   = mean_squared_error(y_true = y_test, y_pred = y_pred)     \n",
    "    mse_s = mean_squared_error(y_true = y_test_s, y_pred = y_pred_s)\n",
    "    rmse   = np.sqrt(mse)\n",
    "    rmse_s = np.sqrt(mse_s)\n",
    "    mae   = mean_absolute_error(y_true = y_test, y_pred = y_pred)\n",
    "    mae_s = mean_absolute_error(y_true = y_test_s, y_pred = y_pred_s)\n",
    "    r2   = r2_score(y_true = y_test, y_pred = y_pred)\n",
    "    r2_s = r2_score(y_true = y_test_s, y_pred = y_pred_s)\n",
    "    \n",
    "    #print('Precios reales:\\n', close.iloc[745:753])\n",
    "    #print('Predicciones de precio desde P_751...P_999:\\n', y_pred_close[0:5])\n",
    "    \n",
    "    # --------------- Returns ---------------------\n",
    "    diccionario = {}\n",
    "    diccionario['y_pred'] = y_pred\n",
    "    diccionario['y_test'] = y_test.values\n",
    "    diccionario['y_pred_s'] = y_pred_s\n",
    "    diccionario['y_test_s'] = y_test_s\n",
    "    diccionario['metrics'] = {'mse':mse, 'rmse':rmse, 'mae':mae, 'r2':r2}\n",
    "    diccionario['metrics_s'] = {'mse_s':mse_s, 'rmse_s':rmse_s, 'mae_s':mae_s, 'r2_s':r2_s}\n",
    "    \n",
    "    # para los gráficos del Precio cierre \n",
    "    diccionario['y_pred_close'] = y_pred_close\n",
    "    diccionario['y_test_close'] = close.iloc[ini_test+1 : fin_test+1].values # 249 valores [P_751,...,P_999]\n",
    "    \n",
    "    \n",
    "    return diccionario \n"
   ]
  },
  {
   "cell_type": "markdown",
   "id": "28323572-f1da-4687-9f83-1bd64ace98f0",
   "metadata": {},
   "source": [
    "## Construcción del modelo "
   ]
  },
  {
   "cell_type": "code",
   "execution_count": 4,
   "id": "b3662d6e-f362-48a9-93ef-1214f841a8e7",
   "metadata": {},
   "outputs": [],
   "source": [
    "#Construyo modelo \n",
    "SVM_model_0 = SVR(\n",
    "    C = 0.1,\n",
    "    epsilon = 0.01,\n",
    "    gamma = 'auto',\n",
    "    kernel = 'rbf'\n",
    ")\n",
    "\n",
    "SVM_model = SVR(\n",
    "    C = 1,\n",
    "    epsilon = 0.2,\n",
    "    gamma = 0.01,\n",
    "    kernel = 'rbf'\n",
    ")"
   ]
  },
  {
   "cell_type": "markdown",
   "id": "ec2cd81c-466b-4c3b-9e8f-7c00454eef8c",
   "metadata": {},
   "source": [
    "**Ejemplo:**"
   ]
  },
  {
   "cell_type": "code",
   "execution_count": 5,
   "id": "454d4d45-8f0d-4498-8914-fdef4b3225b5",
   "metadata": {},
   "outputs": [
    {
     "data": {
      "text/plain": [
       "{'mse': 0.00019654386153694552,\n",
       " 'rmse': 0.014019410170793403,\n",
       " 'mae': 0.011005093984715242,\n",
       " 'r2': -0.0226321656661721}"
      ]
     },
     "metadata": {},
     "output_type": "display_data"
    }
   ],
   "source": [
    "# Elijo un data set\n",
    "df = data_frames['AZN']\n",
    "\n",
    "# Calculo predicciones y métricas\n",
    "display(modelo_SVM(df[0:1000], model = SVM_model_0)['metrics'])\n"
   ]
  },
  {
   "cell_type": "code",
   "execution_count": 6,
   "id": "a8f1fc6a-ddd7-412e-8a0b-25cb4cf0c68d",
   "metadata": {},
   "outputs": [
    {
     "data": {
      "text/plain": [
       "{'mse': 0.0001913364981701005,\n",
       " 'rmse': 0.013832443680351657,\n",
       " 'mae': 0.010817898481152511,\n",
       " 'r2': 0.00446212888775066}"
      ]
     },
     "metadata": {},
     "output_type": "display_data"
    }
   ],
   "source": [
    "# si uso los parámetros habiendo usado grid.fit(X_train_s, y_train_s)\n",
    "display(modelo_SVM(df[0:1000], model = SVM_model)['metrics'])\n"
   ]
  },
  {
   "cell_type": "markdown",
   "id": "eb587c47-50c6-4b93-a8f0-d4ab72db436d",
   "metadata": {},
   "source": [
    "\n",
    "**Nota:** Obtengo mejores métricas si uso los hiperparámetros que proceden `grid.fit(X=X_train_s, y=y_train_s)` en lugar de `grid.fit(X=X_train, y=y_train)`. \n",
    "\n",
    "Por tanto, me quedo con el modelo `SVM_model`."
   ]
  },
  {
   "cell_type": "markdown",
   "id": "8d18b814-4c3a-4efa-8e8f-1537260be5fb",
   "metadata": {},
   "source": [
    "## Modelo sobre todos los datasets y todos los bloques "
   ]
  },
  {
   "cell_type": "markdown",
   "id": "f56dee32-cce5-40d2-92e8-be62205a4940",
   "metadata": {},
   "source": [
    "Ahora para cada uno de los bloques y cada una de las acciones, calculamos las correspondientes predicciones y métricas usando la función anteriormente definida. "
   ]
  },
  {
   "cell_type": "code",
   "execution_count": 7,
   "id": "6409879b-76d9-42d4-903a-e97512878e90",
   "metadata": {},
   "outputs": [
    {
     "name": "stdout",
     "output_type": "stream",
     "text": [
      "Calculando TSCO.\n",
      "Calculando AZN.\n",
      "Calculando BARC.\n",
      "Calculando BP.\n",
      "Calculando BATS.\n",
      "Calculando HLMA.\n",
      "Calculando HSBA.\n",
      "Calculando JMAT.\n",
      "Calculando LGEN.\n",
      "Calculando MKS.\n",
      "Calculando PSON.\n",
      "Calculando REL.\n",
      "Calculando NWG.\n",
      "Calculando SHEL.\n",
      "Calculando SGE.\n",
      "Calculando SBRY.\n",
      "Calculando SDR.\n",
      "Calculando SVT.\n",
      "Calculando SMIN.\n",
      "Calculando SSE.\n",
      "Calculando VOD.\n"
     ]
    }
   ],
   "source": [
    "# Alamacenaré mis resultados en un diccionario\n",
    "resultados = {}\n",
    "\n",
    "for ticker, df in data_frames.items(): \n",
    "    print(f'Calculando {ticker}.')\n",
    "    \n",
    "    resultados[ticker] = {}\n",
    "    #dicc_resultados[ticker]['metricas'] = pd.DataFrame(columns=['MSE', 'RMSE', 'MAE', 'R2']\n",
    "\n",
    "    for n_bloque in range(20): \n",
    "        \n",
    "        # inicializo paara guardar resultados\n",
    "        bloque_name = f'Bloque_{n_bloque}'\n",
    "        resultados[ticker][bloque_name] = {'predicciones': pd.DataFrame(columns=['y_test', 'y_pred', 'y_test_close', 'y_pred_close']),\n",
    "                                           'metricas': pd.DataFrame(columns=['mse', 'rmse', 'mae', 'r2'])\n",
    "                                          }\n",
    "        ini_bloque = 250*n_bloque\n",
    "        fin_bloque = 250*n_bloque + 999\n",
    "        df_bloque = df.iloc[ini_bloque : fin_bloque + 1]\n",
    "        #print(f'Bloque {n_bloque}: ini_bloque ({ini_bloque}:{fin_bloque}) - len={df_bloque.shape}')\n",
    "        \n",
    "        # CALCULO UN SOLO BLOQUE\n",
    "        dicc_bloque = modelo_SVM(df_bloque, model=SVM_model)\n",
    "        \n",
    "        mse  = dicc_bloque['metrics']['mse']\n",
    "        rmse = dicc_bloque['metrics']['rmse']\n",
    "        mae  = dicc_bloque['metrics']['mae']\n",
    "        r2   = dicc_bloque['metrics']['r2']\n",
    "        \n",
    "        # Almaceno predicciones de cada bloque\n",
    "        resultados[ticker][bloque_name]['predicciones']['y_test'] = dicc_bloque['y_test']\n",
    "        resultados[ticker][bloque_name]['predicciones']['y_pred'] = dicc_bloque['y_pred']\n",
    "        resultados[ticker][bloque_name]['predicciones'].loc[1:, 'y_test_close'] = dicc_bloque['y_test_close']\n",
    "        resultados[ticker][bloque_name]['predicciones'].loc[1:, 'y_pred_close'] = dicc_bloque['y_pred_close']\n",
    "        resultados[ticker][bloque_name]['metricas'].loc[bloque_name]     = [mse, rmse, mae, r2]"
   ]
  },
  {
   "cell_type": "code",
   "execution_count": 8,
   "id": "5dc5d240-a2b6-4eb5-b1cb-8dee1097acbc",
   "metadata": {},
   "outputs": [
    {
     "data": {
      "text/plain": [
       "dict_keys(['predicciones', 'metricas'])"
      ]
     },
     "metadata": {},
     "output_type": "display_data"
    },
    {
     "data": {
      "text/html": [
       "<div>\n",
       "<style scoped>\n",
       "    .dataframe tbody tr th:only-of-type {\n",
       "        vertical-align: middle;\n",
       "    }\n",
       "\n",
       "    .dataframe tbody tr th {\n",
       "        vertical-align: top;\n",
       "    }\n",
       "\n",
       "    .dataframe thead th {\n",
       "        text-align: right;\n",
       "    }\n",
       "</style>\n",
       "<table border=\"1\" class=\"dataframe\">\n",
       "  <thead>\n",
       "    <tr style=\"text-align: right;\">\n",
       "      <th></th>\n",
       "      <th>y_test</th>\n",
       "      <th>y_pred</th>\n",
       "      <th>y_test_close</th>\n",
       "      <th>y_pred_close</th>\n",
       "    </tr>\n",
       "  </thead>\n",
       "  <tbody>\n",
       "    <tr>\n",
       "      <th>0</th>\n",
       "      <td>-0.009465</td>\n",
       "      <td>0.001363</td>\n",
       "      <td>NaN</td>\n",
       "      <td>NaN</td>\n",
       "    </tr>\n",
       "    <tr>\n",
       "      <th>1</th>\n",
       "      <td>-0.015508</td>\n",
       "      <td>-0.000194</td>\n",
       "      <td>1727.500977</td>\n",
       "      <td>1746.306578</td>\n",
       "    </tr>\n",
       "    <tr>\n",
       "      <th>2</th>\n",
       "      <td>-0.012863</td>\n",
       "      <td>-0.000789</td>\n",
       "      <td>1700.917236</td>\n",
       "      <td>1727.166297</td>\n",
       "    </tr>\n",
       "    <tr>\n",
       "      <th>3</th>\n",
       "      <td>-0.009545</td>\n",
       "      <td>-0.000706</td>\n",
       "      <td>1679.179077</td>\n",
       "      <td>1699.576453</td>\n",
       "    </tr>\n",
       "    <tr>\n",
       "      <th>4</th>\n",
       "      <td>0.014713</td>\n",
       "      <td>-0.000046</td>\n",
       "      <td>1663.227173</td>\n",
       "      <td>1677.99446</td>\n",
       "    </tr>\n",
       "    <tr>\n",
       "      <th>...</th>\n",
       "      <td>...</td>\n",
       "      <td>...</td>\n",
       "      <td>...</td>\n",
       "      <td>...</td>\n",
       "    </tr>\n",
       "    <tr>\n",
       "      <th>245</th>\n",
       "      <td>-0.026434</td>\n",
       "      <td>-0.000193</td>\n",
       "      <td>2112.079102</td>\n",
       "      <td>2152.941551</td>\n",
       "    </tr>\n",
       "    <tr>\n",
       "      <th>246</th>\n",
       "      <td>0.004691</td>\n",
       "      <td>-0.000888</td>\n",
       "      <td>2056.979736</td>\n",
       "      <td>2111.670484</td>\n",
       "    </tr>\n",
       "    <tr>\n",
       "      <th>247</th>\n",
       "      <td>0.012546</td>\n",
       "      <td>-0.000431</td>\n",
       "      <td>2066.651855</td>\n",
       "      <td>2055.15325</td>\n",
       "    </tr>\n",
       "    <tr>\n",
       "      <th>248</th>\n",
       "      <td>0.005530</td>\n",
       "      <td>0.002730</td>\n",
       "      <td>2092.744385</td>\n",
       "      <td>2065.760456</td>\n",
       "    </tr>\n",
       "    <tr>\n",
       "      <th>249</th>\n",
       "      <td>0.021805</td>\n",
       "      <td>0.003491</td>\n",
       "      <td>2104.348633</td>\n",
       "      <td>2098.464479</td>\n",
       "    </tr>\n",
       "  </tbody>\n",
       "</table>\n",
       "<p>250 rows × 4 columns</p>\n",
       "</div>"
      ],
      "text/plain": [
       "       y_test    y_pred y_test_close y_pred_close\n",
       "0   -0.009465  0.001363          NaN          NaN\n",
       "1   -0.015508 -0.000194  1727.500977  1746.306578\n",
       "2   -0.012863 -0.000789  1700.917236  1727.166297\n",
       "3   -0.009545 -0.000706  1679.179077  1699.576453\n",
       "4    0.014713 -0.000046  1663.227173   1677.99446\n",
       "..        ...       ...          ...          ...\n",
       "245 -0.026434 -0.000193  2112.079102  2152.941551\n",
       "246  0.004691 -0.000888  2056.979736  2111.670484\n",
       "247  0.012546 -0.000431  2066.651855   2055.15325\n",
       "248  0.005530  0.002730  2092.744385  2065.760456\n",
       "249  0.021805  0.003491  2104.348633  2098.464479\n",
       "\n",
       "[250 rows x 4 columns]"
      ]
     },
     "metadata": {},
     "output_type": "display_data"
    },
    {
     "data": {
      "text/html": [
       "<div>\n",
       "<style scoped>\n",
       "    .dataframe tbody tr th:only-of-type {\n",
       "        vertical-align: middle;\n",
       "    }\n",
       "\n",
       "    .dataframe tbody tr th {\n",
       "        vertical-align: top;\n",
       "    }\n",
       "\n",
       "    .dataframe thead th {\n",
       "        text-align: right;\n",
       "    }\n",
       "</style>\n",
       "<table border=\"1\" class=\"dataframe\">\n",
       "  <thead>\n",
       "    <tr style=\"text-align: right;\">\n",
       "      <th></th>\n",
       "      <th>mse</th>\n",
       "      <th>rmse</th>\n",
       "      <th>mae</th>\n",
       "      <th>r2</th>\n",
       "    </tr>\n",
       "  </thead>\n",
       "  <tbody>\n",
       "    <tr>\n",
       "      <th>Bloque_0</th>\n",
       "      <td>0.000191</td>\n",
       "      <td>0.013832</td>\n",
       "      <td>0.010818</td>\n",
       "      <td>0.004462</td>\n",
       "    </tr>\n",
       "  </tbody>\n",
       "</table>\n",
       "</div>"
      ],
      "text/plain": [
       "               mse      rmse       mae        r2\n",
       "Bloque_0  0.000191  0.013832  0.010818  0.004462"
      ]
     },
     "metadata": {},
     "output_type": "display_data"
    }
   ],
   "source": [
    "# Ejemplo: acción AZN - Bloque 0\n",
    "display(resultados['AZN']['Bloque_0'].keys())\n",
    "display(resultados['AZN']['Bloque_0']['predicciones'])\n",
    "display(resultados['AZN']['Bloque_0']['metricas'])"
   ]
  },
  {
   "cell_type": "markdown",
   "id": "944ecc90-0737-4aaa-b656-01dd97379cfa",
   "metadata": {},
   "source": [
    "En la tabla de predicciones vemos que las predicciones de los precios de cierre tienen valores Nan en la primera fila. Esto es coherente con lo que hemos planteado: hemos dicho anteriormente que los precios de cierre predichos son 249 -> [P_751, P_752, ...., P_999]. \n",
    "Mientras que los log-retornos predichos (el target) son 250. "
   ]
  },
  {
   "cell_type": "markdown",
   "id": "19bac443-7bde-49af-9ea6-18898fd80122",
   "metadata": {},
   "source": [
    "### Guardo dataframe de métricas "
   ]
  },
  {
   "cell_type": "code",
   "execution_count": 9,
   "id": "50ba9d0e-c2bd-4d1b-b59e-7147d0e2b214",
   "metadata": {},
   "outputs": [
    {
     "data": {
      "text/html": [
       "<div>\n",
       "<style scoped>\n",
       "    .dataframe tbody tr th:only-of-type {\n",
       "        vertical-align: middle;\n",
       "    }\n",
       "\n",
       "    .dataframe tbody tr th {\n",
       "        vertical-align: top;\n",
       "    }\n",
       "\n",
       "    .dataframe thead th {\n",
       "        text-align: right;\n",
       "    }\n",
       "</style>\n",
       "<table border=\"1\" class=\"dataframe\">\n",
       "  <thead>\n",
       "    <tr style=\"text-align: right;\">\n",
       "      <th></th>\n",
       "      <th>MSE</th>\n",
       "      <th>RMSE</th>\n",
       "      <th>MAE</th>\n",
       "      <th>R2</th>\n",
       "    </tr>\n",
       "  </thead>\n",
       "  <tbody>\n",
       "    <tr>\n",
       "      <th>TSCO</th>\n",
       "      <td>0.000302</td>\n",
       "      <td>0.016650</td>\n",
       "      <td>0.012370</td>\n",
       "      <td>-0.005963</td>\n",
       "    </tr>\n",
       "    <tr>\n",
       "      <th>AZN</th>\n",
       "      <td>0.000297</td>\n",
       "      <td>0.016578</td>\n",
       "      <td>0.012223</td>\n",
       "      <td>-0.029608</td>\n",
       "    </tr>\n",
       "    <tr>\n",
       "      <th>BARC</th>\n",
       "      <td>0.000863</td>\n",
       "      <td>0.025662</td>\n",
       "      <td>0.018889</td>\n",
       "      <td>-0.030598</td>\n",
       "    </tr>\n",
       "    <tr>\n",
       "      <th>BP</th>\n",
       "      <td>0.000307</td>\n",
       "      <td>0.016790</td>\n",
       "      <td>0.012542</td>\n",
       "      <td>-0.015915</td>\n",
       "    </tr>\n",
       "    <tr>\n",
       "      <th>BATS</th>\n",
       "      <td>0.000300</td>\n",
       "      <td>0.015890</td>\n",
       "      <td>0.011922</td>\n",
       "      <td>-0.053099</td>\n",
       "    </tr>\n",
       "    <tr>\n",
       "      <th>HLMA</th>\n",
       "      <td>0.000301</td>\n",
       "      <td>0.016953</td>\n",
       "      <td>0.012127</td>\n",
       "      <td>-0.048713</td>\n",
       "    </tr>\n",
       "    <tr>\n",
       "      <th>HSBA</th>\n",
       "      <td>0.000353</td>\n",
       "      <td>0.016974</td>\n",
       "      <td>0.012608</td>\n",
       "      <td>-0.019110</td>\n",
       "    </tr>\n",
       "    <tr>\n",
       "      <th>JMAT</th>\n",
       "      <td>0.000434</td>\n",
       "      <td>0.019730</td>\n",
       "      <td>0.014495</td>\n",
       "      <td>-0.040498</td>\n",
       "    </tr>\n",
       "    <tr>\n",
       "      <th>LGEN</th>\n",
       "      <td>0.000679</td>\n",
       "      <td>0.023401</td>\n",
       "      <td>0.017080</td>\n",
       "      <td>-0.037685</td>\n",
       "    </tr>\n",
       "    <tr>\n",
       "      <th>MKS</th>\n",
       "      <td>0.000433</td>\n",
       "      <td>0.019780</td>\n",
       "      <td>0.014300</td>\n",
       "      <td>-0.052402</td>\n",
       "    </tr>\n",
       "    <tr>\n",
       "      <th>PSON</th>\n",
       "      <td>0.000424</td>\n",
       "      <td>0.018906</td>\n",
       "      <td>0.014116</td>\n",
       "      <td>-0.021452</td>\n",
       "    </tr>\n",
       "    <tr>\n",
       "      <th>REL</th>\n",
       "      <td>0.000383</td>\n",
       "      <td>0.018305</td>\n",
       "      <td>0.012913</td>\n",
       "      <td>-0.052861</td>\n",
       "    </tr>\n",
       "    <tr>\n",
       "      <th>NWG</th>\n",
       "      <td>0.001152</td>\n",
       "      <td>0.027348</td>\n",
       "      <td>0.019340</td>\n",
       "      <td>-0.023458</td>\n",
       "    </tr>\n",
       "    <tr>\n",
       "      <th>SHEL</th>\n",
       "      <td>0.000268</td>\n",
       "      <td>0.015339</td>\n",
       "      <td>0.010816</td>\n",
       "      <td>-0.157537</td>\n",
       "    </tr>\n",
       "    <tr>\n",
       "      <th>SGE</th>\n",
       "      <td>0.000641</td>\n",
       "      <td>0.022550</td>\n",
       "      <td>0.016929</td>\n",
       "      <td>-0.069585</td>\n",
       "    </tr>\n",
       "    <tr>\n",
       "      <th>SBRY</th>\n",
       "      <td>0.000367</td>\n",
       "      <td>0.018214</td>\n",
       "      <td>0.013186</td>\n",
       "      <td>-0.048766</td>\n",
       "    </tr>\n",
       "    <tr>\n",
       "      <th>SDR</th>\n",
       "      <td>0.000973</td>\n",
       "      <td>0.027097</td>\n",
       "      <td>0.021000</td>\n",
       "      <td>-0.771514</td>\n",
       "    </tr>\n",
       "    <tr>\n",
       "      <th>SVT</th>\n",
       "      <td>0.000315</td>\n",
       "      <td>0.016980</td>\n",
       "      <td>0.011985</td>\n",
       "      <td>-0.245612</td>\n",
       "    </tr>\n",
       "    <tr>\n",
       "      <th>SMIN</th>\n",
       "      <td>0.000364</td>\n",
       "      <td>0.018191</td>\n",
       "      <td>0.012952</td>\n",
       "      <td>-0.018443</td>\n",
       "    </tr>\n",
       "    <tr>\n",
       "      <th>SSE</th>\n",
       "      <td>0.000220</td>\n",
       "      <td>0.014075</td>\n",
       "      <td>0.010511</td>\n",
       "      <td>-0.083756</td>\n",
       "    </tr>\n",
       "    <tr>\n",
       "      <th>VOD</th>\n",
       "      <td>0.000497</td>\n",
       "      <td>0.020514</td>\n",
       "      <td>0.015456</td>\n",
       "      <td>-0.038262</td>\n",
       "    </tr>\n",
       "  </tbody>\n",
       "</table>\n",
       "</div>"
      ],
      "text/plain": [
       "           MSE      RMSE       MAE        R2\n",
       "TSCO  0.000302  0.016650  0.012370 -0.005963\n",
       "AZN   0.000297  0.016578  0.012223 -0.029608\n",
       "BARC  0.000863  0.025662  0.018889 -0.030598\n",
       "BP    0.000307  0.016790  0.012542 -0.015915\n",
       "BATS  0.000300  0.015890  0.011922 -0.053099\n",
       "HLMA  0.000301  0.016953  0.012127 -0.048713\n",
       "HSBA  0.000353  0.016974  0.012608 -0.019110\n",
       "JMAT  0.000434  0.019730  0.014495 -0.040498\n",
       "LGEN  0.000679  0.023401  0.017080 -0.037685\n",
       "MKS   0.000433  0.019780  0.014300 -0.052402\n",
       "PSON  0.000424  0.018906  0.014116 -0.021452\n",
       "REL   0.000383  0.018305  0.012913 -0.052861\n",
       "NWG   0.001152  0.027348  0.019340 -0.023458\n",
       "SHEL  0.000268  0.015339  0.010816 -0.157537\n",
       "SGE   0.000641  0.022550  0.016929 -0.069585\n",
       "SBRY  0.000367  0.018214  0.013186 -0.048766\n",
       "SDR   0.000973  0.027097  0.021000 -0.771514\n",
       "SVT   0.000315  0.016980  0.011985 -0.245612\n",
       "SMIN  0.000364  0.018191  0.012952 -0.018443\n",
       "SSE   0.000220  0.014075  0.010511 -0.083756\n",
       "VOD   0.000497  0.020514  0.015456 -0.038262"
      ]
     },
     "metadata": {},
     "output_type": "display_data"
    }
   ],
   "source": [
    "# Creo mi data frame de métricas (filas = acciones, columnas = metrica)\n",
    "\n",
    "tickers = list(resultados.keys())\n",
    "bloques = list(resultados['AZN'].keys())\n",
    "\n",
    "# inicializo data frame\n",
    "df_intermedio = pd.DataFrame(columns=['mse','rmse','mae','r2'])\n",
    "df_metricas = pd.DataFrame(columns=['MSE','RMSE','MAE','R2'])\n",
    "\n",
    "\n",
    "for ticker in tickers:\n",
    "    for bloque in bloques: \n",
    "        # Junto las metricas de cada bloque (misma ticker/accion)\n",
    "        df_intermedio.loc[bloque] = resultados[ticker][bloque]['metricas'].loc[bloque].values\n",
    "\n",
    "    # Calculo media sobre todos los bloques \n",
    "    medias = df_intermedio.mean()\n",
    "    \n",
    "    # Almaceno los resultados en un nuevo data frame\n",
    "    df_metricas.loc[ticker] = medias.values\n",
    "\n",
    "    \n",
    "    \n",
    "# Almaceno data frame en fichero externo \n",
    "carpeta = os.path.join(os.getcwd(), 'resultados_metricas')\n",
    "os.makedirs(carpeta, exist_ok=True) # Crear la carpeta si no existe\n",
    "ruta_archivo = os.path.join(carpeta, f'metricas_modelo_SVM.csv')\n",
    "df_metricas.to_csv(ruta_archivo, index=True) # Se guarda el índice (el nombre las de acciones)\n",
    "    \n",
    "display(df_metricas)"
   ]
  },
  {
   "cell_type": "markdown",
   "id": "189e4ad7-1293-4a99-870e-ccd2d368fd99",
   "metadata": {},
   "source": [
    "### Guardo dataframe de predicciones"
   ]
  },
  {
   "cell_type": "code",
   "execution_count": 10,
   "id": "75e4bde8-011a-4d02-a68d-399b38611ee0",
   "metadata": {},
   "outputs": [],
   "source": [
    "# Almaceno los dataframes de las predicciones en un fichero externo \n",
    "\n",
    "tickers = list(resultados.keys())\n",
    "bloques = list(resultados['AZN'].keys())\n",
    "\n",
    "for ticker in tickers:\n",
    "    for bloque in bloques: \n",
    "        df_predicciones = resultados[ticker][bloque]['predicciones']\n",
    "        \n",
    "        # Almaceno data frame en fichero externo \n",
    "        carpeta = os.path.join(os.getcwd(), 'resultados_predicciones', 'modelo_SVM')\n",
    "        os.makedirs(carpeta, exist_ok=True) # Crear la carpeta si no existe\n",
    "        ruta_archivo = os.path.join(carpeta, f'predicciones_{ticker}_{bloque}.csv')\n",
    "        df_predicciones.to_csv(ruta_archivo, index=False) # No se guarda el índice en predicciones\n"
   ]
  },
  {
   "cell_type": "markdown",
   "id": "92b961bc-6863-40d9-9c63-b1520f339445",
   "metadata": {},
   "source": [
    "## Gráfica de un 1 bloque - 1 acción"
   ]
  },
  {
   "cell_type": "code",
   "execution_count": 11,
   "id": "27d6398a-f934-4e9c-b0ad-d9784ed947c1",
   "metadata": {},
   "outputs": [
    {
     "name": "stdout",
     "output_type": "stream",
     "text": [
      "250\n",
      "249\n"
     ]
    }
   ],
   "source": [
    "# Elijo acción y bloque \n",
    "ticker_name = 'AZN'\n",
    "bloque_name = 'Bloque_0'   \n",
    "\n",
    "y_real = resultados[ticker_name][bloque_name]['predicciones']['y_test']\n",
    "y_pred = resultados[ticker_name][bloque_name]['predicciones']['y_pred']\n",
    "    \n",
    "y_real_close = resultados[ticker_name][bloque_name]['predicciones'].loc[1:, 'y_test_close']\n",
    "y_pred_close = resultados[ticker_name][bloque_name]['predicciones'].loc[1:, 'y_pred_close']\n",
    "\n",
    "print(len(y_real))\n",
    "print(len(y_real_close))"
   ]
  },
  {
   "cell_type": "code",
   "execution_count": 12,
   "id": "6138339b-a1fb-47a8-9723-ac6a1189e426",
   "metadata": {},
   "outputs": [
    {
     "data": {
      "image/png": "[encoded data removed]",
      "text/plain": [
       "<Figure size 640x480 with 1 Axes>"
      ]
     },
     "metadata": {},
     "output_type": "display_data"
    }
   ],
   "source": [
    "# Gráfica de log-retornos (target)\n",
    "\n",
    "fig, ax = plt.subplots()\n",
    "ax.plot(y_real, color='black', label='y_test')\n",
    "ax.plot(y_pred, color='C0', label = 'y_pred')\n",
    "\n",
    "# Cambio rango para ver mejor\n",
    "plt.xlim([0,100])\n",
    "\n",
    "plt.legend()\n",
    "plt.title('Gráfica de log-retornos (target)')\n",
    "plt.show()"
   ]
  },
  {
   "cell_type": "code",
   "execution_count": 13,
   "id": "94ddc12d-4efe-42e7-8226-ff51e8e63788",
   "metadata": {},
   "outputs": [
    {
     "data": {
      "image/png": "[encoded data removed]",
      "text/plain": [
       "<Figure size 640x480 with 1 Axes>"
      ]
     },
     "metadata": {},
     "output_type": "display_data"
    }
   ],
   "source": [
    "# Gráfica de precios cierre\n",
    "\n",
    "fig, ax = plt.subplots()\n",
    "ax.plot(y_real_close, color='black', label='y_test_close')\n",
    "ax.plot(y_pred_close, color='C0', label = 'y_pred_close')\n",
    "\n",
    "# Cambio rango para ver mejor\n",
    "plt.xlim([0,100])\n",
    "\n",
    "plt.legend()\n",
    "plt.title('Gráfica de Precios cierre')\n",
    "plt.show()"
   ]
  },
  {
   "cell_type": "code",
   "execution_count": null,
   "id": "dadb6690-2cfd-431b-8d1f-d5002ec8ea79",
   "metadata": {},
   "outputs": [],
   "source": []
  }
 ],
 "metadata": {
  "kernelspec": {
   "display_name": "Python 3 (ipykernel)",
   "language": "python",
   "name": "python3"
  },
  "language_info": {
   "codemirror_mode": {
    "name": "ipython",
    "version": 3
   },
   "file_extension": ".py",
   "mimetype": "text/x-python",
   "name": "python",
   "nbconvert_exporter": "python",
   "pygments_lexer": "ipython3",
   "version": "3.8.16"
  }
 },
 "nbformat": 4,
 "nbformat_minor": 5
}
