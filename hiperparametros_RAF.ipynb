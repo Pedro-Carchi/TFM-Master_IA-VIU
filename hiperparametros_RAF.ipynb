{
 "cells": [
  {
   "cell_type": "markdown",
   "id": "f6096eba-3a62-49c8-9a1d-de60e65aca9d",
   "metadata": {},
   "source": [
    "# Búsqueda hiperparámteros del modelo RAF \n"
   ]
  },
  {
   "cell_type": "markdown",
   "id": "b9535294-cc48-48b0-ac54-8d86e80ed8d1",
   "metadata": {},
   "source": [
    "\n",
    "- Cada bloque de 1000 días tiene su propia dinámica, volatilidad y características del mercado. Los hiperparámetros óptimos pueden variar de bloque a bloque.\n",
    "\n",
    "- Sin embargo si pretendemos calcular hiperparámetros de cada bloque y de cada acción, los tiempos de cómputo se disparan.\n",
    "\n",
    "- Por ello realizaremos búsqueda de hiperparámetros usando un bloque y una acción determinados. "
   ]
  },
  {
   "cell_type": "code",
   "execution_count": 1,
   "id": "2ae435b3-2f4b-4209-9bb9-91e338761d24",
   "metadata": {},
   "outputs": [],
   "source": [
    "import numpy as np\n",
    "import pandas as pd\n",
    "import matplotlib.pyplot as plt \n",
    "\n",
    "# Escalamiento\n",
    "from sklearn.preprocessing import MinMaxScaler, StandardScaler\n",
    "\n",
    "# Métricas\n",
    "from sklearn.metrics import mean_squared_error, mean_absolute_error\n",
    "from sklearn.metrics import mean_absolute_percentage_error, r2_score\n",
    "\n",
    "# modelo RAF\n",
    "from sklearn.ensemble import RandomForestRegressor\n",
    "from sklearn.model_selection import TimeSeriesSplit\n",
    "\n",
    "# hiperparametros\n",
    "from sklearn.model_selection import GridSearchCV\n"
   ]
  },
  {
   "cell_type": "markdown",
   "id": "c201c928-1026-41b0-ad7f-adc5691db1bf",
   "metadata": {},
   "source": [
    "## Lectura de datasets "
   ]
  },
  {
   "cell_type": "code",
   "execution_count": 2,
   "id": "498a49ed-af93-4215-afbc-8facafe9bab1",
   "metadata": {},
   "outputs": [
    {
     "name": "stdout",
     "output_type": "stream",
     "text": [
      "dict_keys(['TSCO', 'AZN', 'BARC', 'BP', 'BATS', 'HLMA', 'HSBA', 'JMAT', 'LGEN', 'MKS', 'PSON', 'REL', 'NWG', 'SHEL', 'SGE', 'SBRY', 'SDR', 'SVT', 'SMIN', 'SSE', 'VOD'])\n"
     ]
    }
   ],
   "source": [
    "# Nombre de las acciones\n",
    "tickers = [\n",
    "    'TSCO', 'AZN', 'BARC', 'BP', 'BATS', 'HLMA',\n",
    "    'HSBA', 'JMAT', 'LGEN', 'MKS', 'PSON', 'REL',\n",
    "    'NWG', 'SHEL', 'SGE', 'SBRY', 'SDR', 'SVT',\n",
    "    'SMIN', 'SSE', 'VOD'\n",
    "]\n",
    "\n",
    "data_frames = {} # Inicializo diciconario de data frames\n",
    "\n",
    "for ticker in tickers: \n",
    "    \n",
    "    df = pd.read_csv(f'datasets_features/{ticker}.csv')  # leo el dataset\n",
    "    data_frames[ticker] = df                             # guardo dataframes\n",
    "    \n",
    "print(data_frames.keys())"
   ]
  },
  {
   "cell_type": "markdown",
   "id": "80bb163f-6db4-480f-afa3-fce6f32c8246",
   "metadata": {},
   "source": [
    "## Función que calcula hiperparametros (1 acción - 1 bloque)"
   ]
  },
  {
   "cell_type": "code",
   "execution_count": 3,
   "id": "be6336ee-053f-4697-ab6d-12faa780671c",
   "metadata": {},
   "outputs": [],
   "source": [
    "def hiperparametros_RAF(df_bloque):\n",
    "    '''\n",
    "    Dado un bloque de dataframe (1000 días, o todo el dataset) calcula los hiperámetros óptimos \n",
    "    ''' \n",
    "    # 1) ------------- Partición de datos ----------------\n",
    "    \n",
    "    # Índice de separación\n",
    "    N = len(df_bloque)\n",
    "    split_idx = int(N * 0.75) \n",
    "    \n",
    "    df_features = df_bloque.drop(columns=['Date', 'Open', 'High', 'Low','Close','Volume', 'prev_close', 'target']) # todas columnas r_i\n",
    "    target      = df_bloque['target']  # columna del target\n",
    "\n",
    "    \n",
    "    X_train = df_features.iloc[ : split_idx]\n",
    "    X_test  = df_features.iloc[split_idx : ]\n",
    "    y_train = target.iloc[ : split_idx]\n",
    "    y_test  = target.iloc[split_idx : ]\n",
    "    \n",
    "    #print(split_idx)\n",
    "    #display(X_train.head())\n",
    "    display(X_train.shape)\n",
    "    display(X_test.shape)\n",
    "\n",
    "    # 2) ------------ Estandarización ---------------------\n",
    "    # Features \n",
    "    scaler_x = MinMaxScaler(feature_range=(-1,1))\n",
    "    X_train_s = scaler_x.fit_transform(X_train)     \n",
    "    X_test_s  = scaler_x.transform(X_test)\n",
    "\n",
    "    # Target (al estandarizar son 2D)\n",
    "    scaler_y = MinMaxScaler(feature_range=(-1,1))\n",
    "    y_train_s = scaler_y.fit_transform(y_train.values.reshape(-1, 1)).ravel()    # Necesario reshape, scaler espera 2D      \n",
    "    y_test_s  = scaler_y.transform(y_test.values.reshape(-1, 1))\n",
    "\n",
    "\n",
    "    # 3) ------------- Busco hiperparametros --------------------\n",
    "    # Grid \n",
    "    param_grid = {'n_estimators': [100, 150],\n",
    "                  'max_features': [1.0, 2, 3, 5, 6, 7, 8],   #default 1.0, None o 1. = max_features=n_features\n",
    "                  'max_depth'   : [None, 10, 20, 25, 30]     #default=None, profundidad del arbol hasta que hay hojas puras \n",
    "                 }\n",
    "\n",
    "    # Búsqueda por grid search con validación cruzada\n",
    "    grid = GridSearchCV(\n",
    "                estimator  = RandomForestRegressor(random_state = 123,\n",
    "                                                   criterion    = 'squared_error', #por defecto sq_error\n",
    "                                                   oob_score    = False,\n",
    "                                                   n_jobs       = -1\n",
    "                                                  ),\n",
    "                param_grid = param_grid,\n",
    "                # 'neg_mean_squared_error' devuelve el negativo del MSE → cuanto más alto (menos negativo), mejor (menos error)\n",
    "                #scoring    = 'neg_mean_squared_error', \n",
    "                scoring    = None, #'neg_root_mean_squared_error', # None= el que se use en estimator\n",
    "                n_jobs     = - 1,\n",
    "                cv         = TimeSeriesSplit(n_splits=5), \n",
    "                refit      = True, # por defecto True\n",
    "                verbose    = 0,\n",
    "                return_train_score = True #defecto false\n",
    "           )\n",
    "\n",
    "    grid.fit(X=X_train, y=y_train)\n",
    "    \n",
    "    #medias_test     = grid.cv_results_['mean_test_score']  #array\n",
    "    #std_test        = grid.cv_results_['std_test_score']   #array\n",
    "    #posibles_params = grid.cv_results_['params']           #lista de diccionarios\n",
    "\n",
    "    # Almaceno resultado\n",
    "    resultado = grid.best_params_.copy()\n",
    "    resultado['best_score'] = grid.best_score_  #añado una clave más\n",
    "    \n",
    "    return resultado\n",
    "    \n",
    "    "
   ]
  },
  {
   "cell_type": "markdown",
   "id": "9859a4d0-1720-4bc3-8683-29ccb341f092",
   "metadata": {},
   "source": [
    "### Ejemplo búsqueda hiperparámetros en un bloque  "
   ]
  },
  {
   "cell_type": "code",
   "execution_count": 4,
   "id": "359839e3-9187-45cf-a94f-caa034a77a8f",
   "metadata": {},
   "outputs": [
    {
     "data": {
      "text/plain": [
       "(750, 20)"
      ]
     },
     "metadata": {},
     "output_type": "display_data"
    },
    {
     "data": {
      "text/plain": [
       "(250, 20)"
      ]
     },
     "metadata": {},
     "output_type": "display_data"
    }
   ],
   "source": [
    "# Elijo un data set\n",
    "df = data_frames['AZN']\n",
    "\n",
    "# Calculo hiperparámetros (1 bloque)\n",
    "hiper_1bloque = hiperparametros_RAF(df[0:1000])"
   ]
  },
  {
   "cell_type": "code",
   "execution_count": 5,
   "id": "ee7a71f9-5240-4d34-acf5-06e472bb80ca",
   "metadata": {},
   "outputs": [
    {
     "data": {
      "text/plain": [
       "(4817, 20)"
      ]
     },
     "metadata": {},
     "output_type": "display_data"
    },
    {
     "data": {
      "text/plain": [
       "(1606, 20)"
      ]
     },
     "metadata": {},
     "output_type": "display_data"
    }
   ],
   "source": [
    "# Calculo hiperparámetros (todos los bloque)\n",
    "hiper = hiperparametros_RAF(df)"
   ]
  },
  {
   "cell_type": "code",
   "execution_count": 6,
   "id": "199f6301-a2b6-46e6-82dc-022d9d5271f1",
   "metadata": {},
   "outputs": [
    {
     "data": {
      "text/plain": [
       "{'max_depth': 10,\n",
       " 'max_features': 2,\n",
       " 'n_estimators': 150,\n",
       " 'best_score': -0.06797944897575321}"
      ]
     },
     "metadata": {},
     "output_type": "display_data"
    },
    {
     "data": {
      "text/plain": [
       "{'max_depth': 10,\n",
       " 'max_features': 2,\n",
       " 'n_estimators': 100,\n",
       " 'best_score': -0.01550373783452943}"
      ]
     },
     "metadata": {},
     "output_type": "display_data"
    }
   ],
   "source": [
    "display(hiper_1bloque)\n",
    "display(hiper)"
   ]
  },
  {
   "cell_type": "markdown",
   "id": "7e182860-f069-483a-8bb5-c3e4503c64ad",
   "metadata": {},
   "source": [
    "## Nota: \n",
    "\n",
    "Vemos que el resultado es muy similar, sin embargo el tiempo de cómputo es mucho mayor si usamos todos los bloques temporales de golpe. Usaremos por tanto, un solo bloque para búsqueda de hiperparámteros. "
   ]
  },
  {
   "cell_type": "code",
   "execution_count": null,
   "id": "51f8029a-2257-4c55-84b5-aa3a0e2a86aa",
   "metadata": {},
   "outputs": [],
   "source": []
  },
  {
   "cell_type": "code",
   "execution_count": null,
   "id": "4ba48fbb-d8e9-46d1-bd57-4ef132014006",
   "metadata": {},
   "outputs": [],
   "source": []
  },
  {
   "cell_type": "code",
   "execution_count": null,
   "id": "f000fe7d-6c13-49f2-b4d7-1017980edcff",
   "metadata": {},
   "outputs": [],
   "source": []
  },
  {
   "cell_type": "code",
   "execution_count": null,
   "id": "fb2d83dd-5ec6-4cb3-b06e-970bed2428f9",
   "metadata": {},
   "outputs": [],
   "source": []
  },
  {
   "cell_type": "markdown",
   "id": "542d6990-4881-45b8-9231-abe73832e504",
   "metadata": {},
   "source": [
    "**Nota:** \n",
    "\n",
    "En un principio se intentó calcular los hiperparámetros en cada uno de los bloques. Sin embargo, el tiempo de cómputo se incrementó. Los resultados se muestran en el dataframe inferior, y se vió que los hiperparámetros no varía demasiado entre bloques. \n",
    "\n",
    "Finalmente se optó por usar todos los bloques y elegir una acción representativa (AZN). "
   ]
  },
  {
   "cell_type": "code",
   "execution_count": 80,
   "id": "2dd17e2f-6ecb-413e-8430-2b5f16a5630d",
   "metadata": {},
   "outputs": [
    {
     "data": {
      "text/html": [
       "<div>\n",
       "<style scoped>\n",
       "    .dataframe tbody tr th:only-of-type {\n",
       "        vertical-align: middle;\n",
       "    }\n",
       "\n",
       "    .dataframe tbody tr th {\n",
       "        vertical-align: top;\n",
       "    }\n",
       "\n",
       "    .dataframe thead th {\n",
       "        text-align: right;\n",
       "    }\n",
       "</style>\n",
       "<table border=\"1\" class=\"dataframe\">\n",
       "  <thead>\n",
       "    <tr style=\"text-align: right;\">\n",
       "      <th></th>\n",
       "      <th>index</th>\n",
       "      <th>max_depth</th>\n",
       "      <th>max_features</th>\n",
       "      <th>n_estimators</th>\n",
       "      <th>best_score</th>\n",
       "    </tr>\n",
       "  </thead>\n",
       "  <tbody>\n",
       "    <tr>\n",
       "      <th>11</th>\n",
       "      <td>Bloque_12</td>\n",
       "      <td>20</td>\n",
       "      <td>2</td>\n",
       "      <td>150</td>\n",
       "      <td>-0.155027</td>\n",
       "    </tr>\n",
       "    <tr>\n",
       "      <th>15</th>\n",
       "      <td>Bloque_16</td>\n",
       "      <td>10</td>\n",
       "      <td>2</td>\n",
       "      <td>150</td>\n",
       "      <td>-0.101347</td>\n",
       "    </tr>\n",
       "    <tr>\n",
       "      <th>9</th>\n",
       "      <td>Bloque_10</td>\n",
       "      <td>10</td>\n",
       "      <td>2</td>\n",
       "      <td>150</td>\n",
       "      <td>-0.097732</td>\n",
       "    </tr>\n",
       "    <tr>\n",
       "      <th>10</th>\n",
       "      <td>Bloque_11</td>\n",
       "      <td>10</td>\n",
       "      <td>2</td>\n",
       "      <td>150</td>\n",
       "      <td>-0.076573</td>\n",
       "    </tr>\n",
       "    <tr>\n",
       "      <th>6</th>\n",
       "      <td>Bloque_7</td>\n",
       "      <td>10</td>\n",
       "      <td>2</td>\n",
       "      <td>100</td>\n",
       "      <td>-0.075156</td>\n",
       "    </tr>\n",
       "    <tr>\n",
       "      <th>0</th>\n",
       "      <td>Bloque_1</td>\n",
       "      <td>10</td>\n",
       "      <td>2</td>\n",
       "      <td>150</td>\n",
       "      <td>-0.067979</td>\n",
       "    </tr>\n",
       "    <tr>\n",
       "      <th>17</th>\n",
       "      <td>Bloque_18</td>\n",
       "      <td>10</td>\n",
       "      <td>2</td>\n",
       "      <td>150</td>\n",
       "      <td>-0.062841</td>\n",
       "    </tr>\n",
       "    <tr>\n",
       "      <th>14</th>\n",
       "      <td>Bloque_15</td>\n",
       "      <td>10</td>\n",
       "      <td>2</td>\n",
       "      <td>150</td>\n",
       "      <td>-0.058557</td>\n",
       "    </tr>\n",
       "    <tr>\n",
       "      <th>19</th>\n",
       "      <td>Bloque_20</td>\n",
       "      <td>10</td>\n",
       "      <td>2</td>\n",
       "      <td>150</td>\n",
       "      <td>-0.056747</td>\n",
       "    </tr>\n",
       "    <tr>\n",
       "      <th>12</th>\n",
       "      <td>Bloque_13</td>\n",
       "      <td>30</td>\n",
       "      <td>2</td>\n",
       "      <td>150</td>\n",
       "      <td>-0.054821</td>\n",
       "    </tr>\n",
       "    <tr>\n",
       "      <th>16</th>\n",
       "      <td>Bloque_17</td>\n",
       "      <td>10</td>\n",
       "      <td>2</td>\n",
       "      <td>150</td>\n",
       "      <td>-0.051897</td>\n",
       "    </tr>\n",
       "    <tr>\n",
       "      <th>5</th>\n",
       "      <td>Bloque_6</td>\n",
       "      <td>10</td>\n",
       "      <td>3</td>\n",
       "      <td>100</td>\n",
       "      <td>-0.048929</td>\n",
       "    </tr>\n",
       "    <tr>\n",
       "      <th>13</th>\n",
       "      <td>Bloque_14</td>\n",
       "      <td>10</td>\n",
       "      <td>2</td>\n",
       "      <td>150</td>\n",
       "      <td>-0.048355</td>\n",
       "    </tr>\n",
       "    <tr>\n",
       "      <th>4</th>\n",
       "      <td>Bloque_5</td>\n",
       "      <td>10</td>\n",
       "      <td>3</td>\n",
       "      <td>150</td>\n",
       "      <td>-0.046045</td>\n",
       "    </tr>\n",
       "    <tr>\n",
       "      <th>7</th>\n",
       "      <td>Bloque_8</td>\n",
       "      <td>20</td>\n",
       "      <td>2</td>\n",
       "      <td>100</td>\n",
       "      <td>-0.039995</td>\n",
       "    </tr>\n",
       "    <tr>\n",
       "      <th>1</th>\n",
       "      <td>Bloque_2</td>\n",
       "      <td>10</td>\n",
       "      <td>2</td>\n",
       "      <td>100</td>\n",
       "      <td>-0.039104</td>\n",
       "    </tr>\n",
       "    <tr>\n",
       "      <th>18</th>\n",
       "      <td>Bloque_19</td>\n",
       "      <td>10</td>\n",
       "      <td>3</td>\n",
       "      <td>100</td>\n",
       "      <td>-0.029716</td>\n",
       "    </tr>\n",
       "    <tr>\n",
       "      <th>8</th>\n",
       "      <td>Bloque_9</td>\n",
       "      <td>10</td>\n",
       "      <td>8</td>\n",
       "      <td>150</td>\n",
       "      <td>-0.024389</td>\n",
       "    </tr>\n",
       "    <tr>\n",
       "      <th>2</th>\n",
       "      <td>Bloque_3</td>\n",
       "      <td>10</td>\n",
       "      <td>3</td>\n",
       "      <td>150</td>\n",
       "      <td>-0.008918</td>\n",
       "    </tr>\n",
       "    <tr>\n",
       "      <th>3</th>\n",
       "      <td>Bloque_4</td>\n",
       "      <td>10</td>\n",
       "      <td>2</td>\n",
       "      <td>150</td>\n",
       "      <td>0.001833</td>\n",
       "    </tr>\n",
       "  </tbody>\n",
       "</table>\n",
       "</div>"
      ],
      "text/plain": [
       "        index  max_depth  max_features  n_estimators  best_score\n",
       "11  Bloque_12         20             2           150   -0.155027\n",
       "15  Bloque_16         10             2           150   -0.101347\n",
       "9   Bloque_10         10             2           150   -0.097732\n",
       "10  Bloque_11         10             2           150   -0.076573\n",
       "6    Bloque_7         10             2           100   -0.075156\n",
       "0    Bloque_1         10             2           150   -0.067979\n",
       "17  Bloque_18         10             2           150   -0.062841\n",
       "14  Bloque_15         10             2           150   -0.058557\n",
       "19  Bloque_20         10             2           150   -0.056747\n",
       "12  Bloque_13         30             2           150   -0.054821\n",
       "16  Bloque_17         10             2           150   -0.051897\n",
       "5    Bloque_6         10             3           100   -0.048929\n",
       "13  Bloque_14         10             2           150   -0.048355\n",
       "4    Bloque_5         10             3           150   -0.046045\n",
       "7    Bloque_8         20             2           100   -0.039995\n",
       "1    Bloque_2         10             2           100   -0.039104\n",
       "18  Bloque_19         10             3           100   -0.029716\n",
       "8    Bloque_9         10             8           150   -0.024389\n",
       "2    Bloque_3         10             3           150   -0.008918\n",
       "3    Bloque_4         10             2           150    0.001833"
      ]
     },
     "execution_count": 80,
     "metadata": {},
     "output_type": "execute_result"
    }
   ],
   "source": [
    "# Este es el resultado calculado en su momento (No ejecutar celda)\n",
    "df_resultado = pd.DataFrame.from_dict(resultado_hiperparametros, orient='index').reset_index()\n",
    "df_resultado\n",
    "df_resultado.sort_values(by='best_score', ascending=True)"
   ]
  },
  {
   "cell_type": "code",
   "execution_count": 86,
   "id": "aa83e7f4-1ef9-4ca3-937a-54d3318df12d",
   "metadata": {},
   "outputs": [
    {
     "data": {
      "text/plain": [
       "{'max_depth': 10,\n",
       " 'max_features': 2,\n",
       " 'n_estimators': 100,\n",
       " 'best_score': -0.01550373783452943}"
      ]
     },
     "execution_count": 86,
     "metadata": {},
     "output_type": "execute_result"
    }
   ],
   "source": [
    "resultado"
   ]
  },
  {
   "cell_type": "code",
   "execution_count": null,
   "id": "1619f7a2-6a9b-4b50-8c04-4168c65ec13c",
   "metadata": {},
   "outputs": [],
   "source": []
  }
 ],
 "metadata": {
  "kernelspec": {
   "display_name": "Python 3 (ipykernel)",
   "language": "python",
   "name": "python3"
  },
  "language_info": {
   "codemirror_mode": {
    "name": "ipython",
    "version": 3
   },
   "file_extension": ".py",
   "mimetype": "text/x-python",
   "name": "python",
   "nbconvert_exporter": "python",
   "pygments_lexer": "ipython3",
   "version": "3.8.16"
  }
 },
 "nbformat": 4,
 "nbformat_minor": 5
}
