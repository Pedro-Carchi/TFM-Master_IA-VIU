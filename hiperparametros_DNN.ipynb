{
 "cells": [
  {
   "cell_type": "markdown",
   "id": "f6096eba-3a62-49c8-9a1d-de60e65aca9d",
   "metadata": {},
   "source": [
    "# Búsqueda hiperparámteros del modelo DNN \n"
   ]
  },
  {
   "cell_type": "markdown",
   "id": "b9535294-cc48-48b0-ac54-8d86e80ed8d1",
   "metadata": {},
   "source": [
    "\n",
    "- Cada bloque de 1000 días tiene su propia dinámica, volatilidad y características del mercado. Los hiperparámetros óptimos pueden variar de bloque a bloque.\n",
    "\n",
    "- Sin embargo si pretendemos calcular hiperparámetros de cada bloque y de cada acción, los tiempos de cómputo se disparan.\n",
    "\n",
    "- Por ello realizaremos búsqueda de hiperparámetros usando un bloque y una acción determinados. "
   ]
  },
  {
   "cell_type": "code",
   "execution_count": 1,
   "id": "2ae435b3-2f4b-4209-9bb9-91e338761d24",
   "metadata": {},
   "outputs": [],
   "source": [
    "import numpy as np\n",
    "import pandas as pd\n",
    "import matplotlib.pyplot as plt \n",
    "\n",
    "# Escalamiento\n",
    "from sklearn.preprocessing import MinMaxScaler, StandardScaler\n",
    "\n",
    "# Métricas\n",
    "from sklearn.metrics import mean_squared_error, mean_absolute_error\n",
    "from sklearn.metrics import mean_absolute_percentage_error, r2_score\n",
    "\n",
    "# modelo DNN\n",
    "import tensorflow as tf\n",
    "from tensorflow.keras import layers, regularizers\n",
    "\n",
    "\n",
    "# hiperparametros\n",
    "import keras_tuner as kt\n",
    "from keras_tuner.tuners import RandomSearch \n",
    "from sklearn.model_selection import TimeSeriesSplit\n"
   ]
  },
  {
   "cell_type": "markdown",
   "id": "c201c928-1026-41b0-ad7f-adc5691db1bf",
   "metadata": {},
   "source": [
    "## Lectura de datasets "
   ]
  },
  {
   "cell_type": "code",
   "execution_count": 2,
   "id": "498a49ed-af93-4215-afbc-8facafe9bab1",
   "metadata": {},
   "outputs": [
    {
     "name": "stdout",
     "output_type": "stream",
     "text": [
      "dict_keys(['TSCO', 'AZN', 'BARC', 'BP', 'BATS', 'HLMA', 'HSBA', 'JMAT', 'LGEN', 'MKS', 'PSON', 'REL', 'NWG', 'SHEL', 'SGE', 'SBRY', 'SDR', 'SVT', 'SMIN', 'SSE', 'VOD'])\n"
     ]
    }
   ],
   "source": [
    "# Nombre de las acciones\n",
    "tickers = [\n",
    "    'TSCO', 'AZN', 'BARC', 'BP', 'BATS', 'HLMA',\n",
    "    'HSBA', 'JMAT', 'LGEN', 'MKS', 'PSON', 'REL',\n",
    "    'NWG', 'SHEL', 'SGE', 'SBRY', 'SDR', 'SVT',\n",
    "    'SMIN', 'SSE', 'VOD'\n",
    "]\n",
    "\n",
    "data_frames = {} # Inicializo diciconario de data frames\n",
    "\n",
    "for ticker in tickers: \n",
    "    \n",
    "    df = pd.read_csv(f'datasets_features/{ticker}.csv')  # leo el dataset\n",
    "    data_frames[ticker] = df                             # guardo dataframes\n",
    "    \n",
    "print(data_frames.keys())"
   ]
  },
  {
   "cell_type": "markdown",
   "id": "40061d48-9be7-440e-8ccb-1230025fb166",
   "metadata": {},
   "source": [
    "## Construyo build model "
   ]
  },
  {
   "cell_type": "code",
   "execution_count": 3,
   "id": "3c649b7f-7965-4eaa-a766-e45693dee830",
   "metadata": {},
   "outputs": [],
   "source": [
    "def build_model(hp):\n",
    "    model = tf.keras.Sequential()\n",
    "\n",
    "    # Número de capas ocultas\n",
    "    n_layers = hp.Int('n_layers', 1, 3)\n",
    "\n",
    "    for i in range(n_layers):\n",
    "        model.add(layers.Dense(\n",
    "            units=hp.Choice(f'units_{i}', [32, 64, 128, 256]),\n",
    "            activation=hp.Choice(f'activation_{i}', ['relu', 'tanh']),\n",
    "            kernel_regularizer=regularizers.l2(\n",
    "                hp.Choice(f'l2_{i}', [0.0, 0.001, 0.01])\n",
    "            )\n",
    "        ))\n",
    "        model.add(layers.Dropout(\n",
    "            hp.Choice(f'dropout_{i}', [0.1, 0.3, 0.5])\n",
    "        ))\n",
    "\n",
    "    # Capa de salida (regresión)\n",
    "    model.add(layers.Dense(1))\n",
    "\n",
    "    # Optimizador + learning rate\n",
    "    lr = hp.Choice('learning_rate', [0.01, 0.001, 0.0001])\n",
    "    optimizer_name = hp.Choice('optimizer', ['adam', 'rmsprop'])\n",
    "\n",
    "    if optimizer_name == 'adam':\n",
    "        opt = tf.keras.optimizers.Adam(learning_rate=lr)\n",
    "    else:\n",
    "        opt = tf.keras.optimizers.RMSprop(learning_rate=lr)\n",
    "\n",
    "    model.compile(\n",
    "        optimizer=opt,\n",
    "        loss='mse'\n",
    "    )\n",
    "    return model\n"
   ]
  },
  {
   "cell_type": "code",
   "execution_count": 4,
   "id": "97d94b48-e39c-453e-ab40-2965a2d86f7d",
   "metadata": {},
   "outputs": [],
   "source": [
    "# Funcion que dado un bloque de features me extrae el 75% de entrenamiento \n",
    "def train_global(df_bloque, return_estandarizado = True): \n",
    "    \n",
    "    # Índice de separación\n",
    "    N = len(df_bloque)\n",
    "    split_idx = int(N * 0.75) \n",
    "    \n",
    "    df_features = df_bloque.drop(columns=['Date', 'Open', 'High', 'Low','Close','Volume', 'prev_close', 'target']) # todas columnas r_i\n",
    "    target      = df_bloque['target']  # columna del target\n",
    "    \n",
    "    X_train = df_features.iloc[ : split_idx]\n",
    "    X_test  = df_features.iloc[split_idx : ]\n",
    "    y_train = target.iloc[ : split_idx]\n",
    "    y_test  = target.iloc[split_idx : ]\n",
    "\n",
    "    # 2) ------------ Estandarización ---------------------\n",
    "    # Features \n",
    "    scaler_x = MinMaxScaler(feature_range=(-1,1))\n",
    "    X_train_s = scaler_x.fit_transform(X_train)     \n",
    "    X_test_s  = scaler_x.transform(X_test)\n",
    "\n",
    "    # Target (al estandarizar son 2D)\n",
    "    scaler_y = MinMaxScaler(feature_range=(-1,1))\n",
    "    y_train_s = scaler_y.fit_transform(y_train.values.reshape(-1, 1)).ravel()    # Necesario reshape, scaler espera 2D      \n",
    "    y_test_s  = scaler_y.transform(y_test.values.reshape(-1, 1))\n",
    "    \n",
    "    if return_estandarizado: \n",
    "        return X_train_s, y_train_s\n",
    "    else: \n",
    "        return np.array(X_train), np.array(y_train)\n"
   ]
  },
  {
   "cell_type": "markdown",
   "id": "6f9effa5-2b38-40f5-a67a-089361cb49a5",
   "metadata": {},
   "source": [
    "## Busco los hiperparámetros con `RandomSearch`"
   ]
  },
  {
   "cell_type": "code",
   "execution_count": 5,
   "id": "ad8d0a70-34fd-4120-82b9-272e8819e1e2",
   "metadata": {},
   "outputs": [
    {
     "data": {
      "text/plain": [
       "(750, 20)"
      ]
     },
     "execution_count": 5,
     "metadata": {},
     "output_type": "execute_result"
    }
   ],
   "source": [
    "# Elijo acción\n",
    "df = data_frames['AZN']\n",
    "\n",
    "# Defino el train que usará mi buscador de parámetros\n",
    "X_train_global, y_train_global = train_global(df.iloc[0:1000], return_estandarizado=True) \n",
    "X_train_global.shape"
   ]
  },
  {
   "cell_type": "code",
   "execution_count": 8,
   "id": "d2c57e46-15c1-441e-a6e4-ac82bde61a6d",
   "metadata": {},
   "outputs": [
    {
     "name": "stdout",
     "output_type": "stream",
     "text": [
      "Reloading Tuner from dnn_tuning\\random_search_dnn_3\\tuner0.json\n",
      "{'n_layers': 1, 'units_0': 32, 'activation_0': 'tanh', 'l2_0': 0.01, 'dropout_0': 0.5, 'learning_rate': 0.01, 'optimizer': 'rmsprop'}\n"
     ]
    }
   ],
   "source": [
    "# 5 folds. X_train de 750 días.\n",
    "#          Fold 1: [0:500] - [501:550]\n",
    "#          Fold 2: [0:550] - [551:600]\n",
    "#          Fold 3: [0:600] - [601:650]\n",
    "#          Fold 4: [0:650] - [651:700]\n",
    "#          Fold 5: [0:700] - [701:750]\n",
    "                                            \n",
    "tscv = TimeSeriesSplit(n_splits=5) \n",
    "\n",
    "# tuner prueba las diferentes combinaciones y guarda las mejores\n",
    "tuner = RandomSearch(\n",
    "    build_model,                       # funcion que construye modelo DNN con hp propuestos\n",
    "    objective='val_loss',              # minimizamos error en validacion\n",
    "    max_trials=20,                     # combinaciones que probamos\n",
    "    executions_per_trial=1,            # no repetir configuracion \n",
    "    directory='dnn_tuning',            # carpeta donde se guardan resultados\n",
    "    project_name='random_search_dnn_3'   # subcarpeta del proyecto\n",
    ")\n",
    "\n",
    "\n",
    "# Bucle para cada fold \n",
    "for train_idx, val_idx in tscv.split(X_train_global):\n",
    "    X_tr, X_val = X_train_global[train_idx], X_train_global[val_idx]\n",
    "    y_tr, y_val = y_train_global[train_idx], y_train_global[val_idx]\n",
    "    \n",
    "    # Ejecuto búsqueda en cada fold. Se guarda la mejor combinacion en cad fold. \n",
    "    tuner.search(\n",
    "        X_tr, y_tr,\n",
    "        validation_data=(X_val, y_val),\n",
    "        epochs=50,\n",
    "        batch_size=32,\n",
    "        callbacks=[tf.keras.callbacks.EarlyStopping(\n",
    "            monitor='val_loss', patience=5\n",
    "        )]\n",
    "    )\n",
    "\n",
    "# Busca en TODOS los folds y TODOS los trials cuál configuración general obtuvo mejor rendimiento medio.\n",
    "best_hps = tuner.get_best_hyperparameters(1)[0]\n",
    "print(best_hps.values)"
   ]
  },
  {
   "cell_type": "code",
   "execution_count": null,
   "id": "da3c940f-72f1-465c-8872-da896da45d76",
   "metadata": {},
   "outputs": [],
   "source": []
  },
  {
   "cell_type": "code",
   "execution_count": null,
   "id": "e682097d-7b0f-48c5-854b-bc71d8005b90",
   "metadata": {},
   "outputs": [],
   "source": []
  }
 ],
 "metadata": {
  "kernelspec": {
   "display_name": "Python 3 (ipykernel)",
   "language": "python",
   "name": "python3"
  },
  "language_info": {
   "codemirror_mode": {
    "name": "ipython",
    "version": 3
   },
   "file_extension": ".py",
   "mimetype": "text/x-python",
   "name": "python",
   "nbconvert_exporter": "python",
   "pygments_lexer": "ipython3",
   "version": "3.8.16"
  }
 },
 "nbformat": 4,
 "nbformat_minor": 5
}
