{
 "cells": [
  {
   "cell_type": "markdown",
   "id": "026e9ae2-d224-4a9f-ac39-4eed93395892",
   "metadata": {},
   "source": [
    "### Componentes del FTSE 100 (Artículo)"
   ]
  },
  {
   "cell_type": "code",
   "execution_count": 1,
   "id": "0a66f8df-34ff-48fb-841d-72a2657eee8d",
   "metadata": {},
   "outputs": [
    {
     "name": "stderr",
     "output_type": "stream",
     "text": [
      "[*********************100%***********************]  21 of 21 completed\n"
     ]
    },
    {
     "name": "stdout",
     "output_type": "stream",
     "text": [
      "Datos ajustados guardados en la carpeta 'datasets'.\n"
     ]
    }
   ],
   "source": [
    "import yfinance as yf\n",
    "import pandas as pd\n",
    "import os\n",
    "\n",
    "# Crear carpeta \"datasets\" si no existe\n",
    "output_folder = \"datasets\"\n",
    "os.makedirs(output_folder, exist_ok=True)\n",
    "\n",
    "# Lista de tickers\n",
    "tickers = [\n",
    "    \"TSCO.L\", \"AZN.L\", \"BARC.L\", \"BP.L\", \"BATS.L\", \"HLMA.L\",\n",
    "    \"HSBA.L\", \"JMAT.L\", \"LGEN.L\", \"MKS.L\", \"PSON.L\", \"REL.L\",\n",
    "    \"NWG.L\", \"SHEL.L\", \"SGE.L\", \"SBRY.L\", \"SDR.L\", \"SVT.L\",\n",
    "    \"SMIN.L\", \"SSE.L\", \"VOD.L\"\n",
    "]\n",
    "\n",
    "# Fechas\n",
    "start_date = \"1994-03-01\"\n",
    "end_date = \"2019-03-31\"\n",
    "\n",
    "# Descargar los datos con precios ajustados\n",
    "data = yf.download(tickers, start=start_date, end=end_date, group_by='ticker', auto_adjust=True)\n",
    "\n",
    "# Guardar por separado cada empresa\n",
    "for ticker in tickers:\n",
    "    df = data[ticker].dropna()\n",
    "    file_path = os.path.join(output_folder, f\"{ticker}_1994_2019_adjusted.csv\")\n",
    "    df.to_csv(file_path)\n",
    "\n",
    "print(f\"Datos ajustados guardados en la carpeta '{output_folder}'.\")\n"
   ]
  },
  {
   "cell_type": "code",
   "execution_count": null,
   "id": "d732b952-d5c3-454a-ae90-6a7b6b98a586",
   "metadata": {},
   "outputs": [],
   "source": []
  }
 ],
 "metadata": {
  "kernelspec": {
   "display_name": "Python 3.10 (py310)",
   "language": "python",
   "name": "py310"
  },
  "language_info": {
   "codemirror_mode": {
    "name": "ipython",
    "version": 3
   },
   "file_extension": ".py",
   "mimetype": "text/x-python",
   "name": "python",
   "nbconvert_exporter": "python",
   "pygments_lexer": "ipython3",
   "version": "3.10.17"
  }
 },
 "nbformat": 4,
 "nbformat_minor": 5
}
